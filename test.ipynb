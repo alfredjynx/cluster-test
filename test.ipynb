{
 "cells": [
  {
   "cell_type": "markdown",
   "metadata": {},
   "source": [
    "## Assignment 1: due June 14.\n",
    "In your favorite programming language, write code to generate a random network consisting of 1,000 nodes and at least 10,000 edges. Save the network as an edge list, a METIS file, and in GraphML format. Plot the degree distribution. Report the number of isolated nodes and connected components. Your code should accompany your write up along with the three data files (edge list as tsv, METIS, GraphML). Thus, you could just upload a folder in here that is appropriately named. Code can be reported as a link to a Github repo. Assignments should be written up using LaTeX and saved as a PDF. "
   ]
  },
  {
   "cell_type": "code",
   "execution_count": 4,
   "metadata": {},
   "outputs": [],
   "source": [
    "import numpy as np\n",
    "import pandas as pd"
   ]
  },
  {
   "cell_type": "code",
   "execution_count": 2,
   "metadata": {},
   "outputs": [
    {
     "data": {
      "text/plain": [
       "1000"
      ]
     },
     "execution_count": 2,
     "metadata": {},
     "output_type": "execute_result"
    }
   ],
   "source": [
    "nodes = [str(i) for i in range(1,1001)]\n",
    "\n",
    "len(nodes)"
   ]
  },
  {
   "cell_type": "code",
   "execution_count": 7,
   "metadata": {},
   "outputs": [],
   "source": [
    "# gotten from this: https://stackoverflow.com/questions/38555385/removing-duplicate-edges-from-graph-in-python-list\n",
    "def normalize(edge):\n",
    "    n1, n2 = edge\n",
    "    if n1 > n2: # use a custom compare function if desired\n",
    "        n1, n2 = n2, n1\n",
    "    return (n1, n2)"
   ]
  },
  {
   "cell_type": "code",
   "execution_count": 15,
   "metadata": {},
   "outputs": [
    {
     "data": {
      "text/plain": [
       "15000"
      ]
     },
     "execution_count": 15,
     "metadata": {},
     "output_type": "execute_result"
    }
   ],
   "source": [
    "edge_list = []\n",
    "\n",
    "n_edges = 15000\n",
    "\n",
    "def populate_edge_list(n, edge_list):\n",
    "\n",
    "    for _ in range(n):\n",
    "        from_node = np.random.randint(0,len(nodes))\n",
    "        to_node = np.random.randint(0,len(nodes))\n",
    "\n",
    "        while from_node == to_node:\n",
    "            to_node = np.random.randint(0,len(nodes))\n",
    "        \n",
    "        edge_list.append(normalize((nodes[from_node], nodes[to_node])))\n",
    "    \n",
    "    return edge_list\n",
    "\n",
    "\n",
    "while len(edge_list) < n_edges:\n",
    "\n",
    "    populate_edge_list(n_edges - len(edge_list), edge_list)\n",
    "    edge_list = list(set(edge_list))\n",
    "\n",
    "len(edge_list)"
   ]
  },
  {
   "cell_type": "code",
   "execution_count": 17,
   "metadata": {},
   "outputs": [],
   "source": [
    "import csv\n",
    "\n",
    "# gotten from here: https://stackoverflow.com/questions/63107145/writing-to-a-tsv-file-from-multiple-list-in-python\n",
    "\n",
    "with open('output.tsv', 'w', newline='') as f_output:\n",
    "    tsv_output = csv.writer(f_output, delimiter='\\t')\n",
    "    tsv_output.writerow(['from_node, to_node'])\n",
    "    for from_node, to_node in edge_list:\n",
    "        tsv_output.writerow([f\"{from_node}, {to_node}\"])"
   ]
  }
 ],
 "metadata": {
  "kernelspec": {
   "display_name": "Python 3",
   "language": "python",
   "name": "python3"
  },
  "language_info": {
   "codemirror_mode": {
    "name": "ipython",
    "version": 3
   },
   "file_extension": ".py",
   "mimetype": "text/x-python",
   "name": "python",
   "nbconvert_exporter": "python",
   "pygments_lexer": "ipython3",
   "version": "3.10.2"
  }
 },
 "nbformat": 4,
 "nbformat_minor": 2
}
